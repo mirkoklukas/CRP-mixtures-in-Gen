{
 "cells": [
  {
   "cell_type": "code",
   "execution_count": 1,
   "metadata": {},
   "outputs": [
    {
     "data": {
      "text/html": [
       "<style>.rendered_html.text_cell_render {max-width:700px; }</style>"
      ],
      "text/plain": [
       "HTML{String}(\"<style>.rendered_html.text_cell_render {max-width:700px; }</style>\")"
      ]
     },
     "metadata": {},
     "output_type": "display_data"
    }
   ],
   "source": [
    "using Gen\n",
    "using Random\n",
    "using Statistics: mean, std\n",
    "using StatsBase\n",
    "using BenchmarkTools\n",
    "using JLD\n",
    "import PyPlot\n",
    "plt = PyPlot.plt\n",
    "plt.style.use(\"seaborn\")\n",
    "\n",
    "include(\"plotting.jl\");\n",
    "include(\"code_from_part_1.jl\");\n",
    "\n",
    "display(HTML(\"<style>.rendered_html.text_cell_render {max-width:700px; }</style>\"));"
   ]
  },
  {
   "cell_type": "markdown",
   "metadata": {},
   "source": [
    "**Code from Part 1:** This notebook is based on the models derived in the first part. \n",
    "We included the relevant source code in the cell above. The main pieces we will use here are\n",
    "the base distribution `G0`, the data distributions `F(𝜙)`,\n",
    "the mixture model `crp_mixture_model`, and some helper functions like `relabel_tables`.\n"
   ]
  },
  {
   "cell_type": "code",
   "execution_count": 2,
   "metadata": {},
   "outputs": [
    {
     "data": {
      "text/latex": [
       "\\begin{verbatim}\n",
       "F(phi)\n",
       "\\end{verbatim}\n",
       "Family of data distributions conditioned  on cluster parameters. \n",
       "\n"
      ],
      "text/markdown": [
       "```\n",
       "F(phi)\n",
       "```\n",
       "\n",
       "Family of data distributions conditioned  on cluster parameters. \n"
      ],
      "text/plain": [
       "\u001b[36m  F(phi)\u001b[39m\n",
       "\n",
       "  Family of data distributions conditioned on cluster parameters. "
      ]
     },
     "metadata": {},
     "output_type": "display_data"
    },
    {
     "data": {
      "text/latex": [
       "\\begin{verbatim}\n",
       "G0()\n",
       "\\end{verbatim}\n",
       "Basedistribution over cluster parameters.\n",
       "\n"
      ],
      "text/markdown": [
       "```\n",
       "G0()\n",
       "```\n",
       "\n",
       "Basedistribution over cluster parameters.\n"
      ],
      "text/plain": [
       "\u001b[36m  G0()\u001b[39m\n",
       "\n",
       "  Basedistribution over cluster parameters."
      ]
     },
     "metadata": {},
     "output_type": "display_data"
    },
    {
     "data": {
      "text/latex": [
       "\\begin{verbatim}\n",
       "(c, phi, x) = crp_mixture_model(T::Int, \n",
       "                                α::Float64, \n",
       "                                F::Union{Distribution,DynamicDSLFunction}, \n",
       "                                G0::Union{Distribution,DynamicDSLFunction})\n",
       "\\end{verbatim}\n",
       "Defines a non-parametric mixture model. Cluster assignments are chosen according to a CRP  with concentration parameter \\texttt{α}, cluster parameters are chosen from a base distribution \\texttt{G0}, and the data are generated from a family of distributions \\texttt{F}.\n",
       "\n"
      ],
      "text/markdown": [
       "```\n",
       "(c, phi, x) = crp_mixture_model(T::Int, \n",
       "                                α::Float64, \n",
       "                                F::Union{Distribution,DynamicDSLFunction}, \n",
       "                                G0::Union{Distribution,DynamicDSLFunction})\n",
       "```\n",
       "\n",
       "Defines a non-parametric mixture model. Cluster assignments are chosen according to a CRP  with concentration parameter `α`, cluster parameters are chosen from a base distribution `G0`, and the data are generated from a family of distributions `F`.\n"
      ],
      "text/plain": [
       "\u001b[36m  (c, phi, x) = crp_mixture_model(T::Int, \u001b[39m\n",
       "\u001b[36m                                  α::Float64, \u001b[39m\n",
       "\u001b[36m                                  F::Union{Distribution,DynamicDSLFunction}, \u001b[39m\n",
       "\u001b[36m                                  G0::Union{Distribution,DynamicDSLFunction})\u001b[39m\n",
       "\n",
       "  Defines a non-parametric mixture model. Cluster assignments are chosen\n",
       "  according to a CRP with concentration parameter \u001b[36mα\u001b[39m, cluster parameters are\n",
       "  chosen from a base distribution \u001b[36mG0\u001b[39m, and the data are generated from a family\n",
       "  of distributions \u001b[36mF\u001b[39m."
      ]
     },
     "metadata": {},
     "output_type": "display_data"
    },
    {
     "data": {
      "text/latex": [
       "\\begin{verbatim}\n",
       "tr = relabel_tables(tr::Gen.Trace)\n",
       "\\end{verbatim}\n",
       "Relabels the tables according their allocation, i.e.  it changes \\texttt{c} and the \\texttt{phi} as if the were  constructed by the crp model without changing  the cluster memberships. \n",
       "\n"
      ],
      "text/markdown": [
       "```\n",
       "tr = relabel_tables(tr::Gen.Trace)\n",
       "```\n",
       "\n",
       "Relabels the tables according their allocation, i.e.  it changes `c` and the `phi` as if the were  constructed by the crp model without changing  the cluster memberships. \n"
      ],
      "text/plain": [
       "\u001b[36m  tr = relabel_tables(tr::Gen.Trace)\u001b[39m\n",
       "\n",
       "  Relabels the tables according their allocation, i.e. it changes \u001b[36mc\u001b[39m and the\n",
       "  \u001b[36mphi\u001b[39m as if the were constructed by the crp model without changing the cluster\n",
       "  memberships. "
      ]
     },
     "metadata": {},
     "output_type": "display_data"
    },
    {
     "data": {
      "text/latex": [
       "\\begin{verbatim}\n",
       "get_obs(x)\n",
       "\\end{verbatim}\n",
       "Creates a choicemap with data constraints given by \\texttt{x}. Depends on the trace structure of the data models. \n",
       "\n"
      ],
      "text/markdown": [
       "```\n",
       "get_obs(x)\n",
       "```\n",
       "\n",
       "Creates a choicemap with data constraints given by `x`. Depends on the trace structure of the data models. \n"
      ],
      "text/plain": [
       "\u001b[36m  get_obs(x)\u001b[39m\n",
       "\n",
       "  Creates a choicemap with data constraints given by \u001b[36mx\u001b[39m. Depends on the trace\n",
       "  structure of the data models. "
      ]
     },
     "metadata": {},
     "output_type": "display_data"
    }
   ],
   "source": [
    "display(@doc F)\n",
    "display(@doc G0)\n",
    "display(@doc crp_mixture_model)\n",
    "display(@doc relabel_tables)\n",
    "display(@doc get_obs)"
   ]
  },
  {
   "cell_type": "markdown",
   "metadata": {},
   "source": [
    "# Approximate Inference\n",
    "\n",
    "In this part of the tutorial I define an approximate inference model &mdash; mostly to get comfortable with Gen. At some point it would be nice to implement more sophisticated models as described in (Neal,2000) for instance and aim for performance. Cf. **Part 1** for references and other resources.\n",
    "\n",
    "Let us start off be indentifying all the pieces we need. Depending on our choice of priors and data model we can then argue how to approximate them. We define a Markov chain whose state is given by the assignments $c_1,\\ldots,c_T$ and which is updated via Gibbs sampling using the conditional distributions\n",
    "\n",
    "$$\\tag{$\\ast$}\n",
    "\\begin{eqnarray}\n",
    "        p(c_t = j \\mid c_{-t}, y) \n",
    "            &=& \\eta \\cdot \\color{}{p( y_t \\mid c, y_{-t} )} \\cdot  \\color{}{p(c_t = j \\mid c_{-t})} \\\\ \n",
    "            &=& \\eta \\cdot \n",
    "            \\color{blue}{\\int F( y_t ; \\phi_{c_t}) \\ p(\\phi_{c_t} | y_{-t},c ) \\ d\\phi_{c_t}} \\cdot \n",
    "            \\color{green}{p(c_t =j \\mid c_{-t})}.\n",
    "\\end{eqnarray}\n",
    "$$\n",
    "\n",
    "Note that that last term, $p(c_t \\mid c_{-t})$, corresponds to the CRP kernel defined above, i.e.\n",
    "\n",
    "$$\n",
    "        \\color{green}{p(c_t = j \\mid c_{-t})}  \\propto\n",
    "        \\begin{cases} \n",
    "         n_{j,-t}  & j = c_s, \\text{for some } s\\neq t \\\\\n",
    "        \\alpha    & \\text{otherwise}.\n",
    "    \\end{cases}\n",
    "$$\n",
    "\n",
    "We are left with computing the marginal distribution describing the first term (not counting the normalizeing constant $\\eta$).\n",
    "\n",
    "**Approximation of the marginal distribution**\n",
    "\n",
    "For now I assume we cannot analytically compute the term $\\color{blue}{\\int F( y_t ; \\phi_{c_t}) \\ p(\\phi_{c_t} | y_{-t},c ) \\ d\\phi_{c_t}}$.\n",
    "Thus we have to approximate the term otherwise, using Monte Carlo approximation, for instance.\n",
    "In order to do so we need to sample from the posterior $p(\\phi_{c_t} | y_{-t},c )$.\n",
    "This is hard in general. But what we can do is use importance sampling to \"mimic\" samples from it. We have\n",
    "\n",
    "$$\\tag{$\\ast\\ast$}\n",
    "p(\\phi_{c_t} | y_{-t},c ) = p(\\phi \\mid y_{s\\neq t,c_s=c_t} ) \n",
    "    = \\frac{\\color{red}{   p(y_{s\\neq t,c_s=c_t} \\mid \\phi) \\ p(\\phi)}}{{\\int p(y_{s\\neq t,c_s=c_t} \\mid \\phi) \\ p(\\phi) \\ d\\phi} }.\n",
    "$$ \n",
    "\n",
    "Expressing the posterior in this way tells how to model it using Gen (cf. the Gen function `data_model_with_prior` which models the part higlighted in red).\n",
    "We then use a proposal distribution $\\color{}{q(\\phi \\mid y_{t\\neq i, t=c_i})}$ to create a series of samples\n",
    "\n",
    "$$\n",
    "    \\phi_m \\sim q(\\phi \\mid y_{t\\neq i, t=c_i})\n",
    "$$\n",
    "\n",
    "with normalized importance weights $w_m = \\tfrac{\\tilde w_m}{\\sum \\tilde w_m}$, where\n",
    "$\n",
    "    \\tilde w_m=\\tfrac{p(y_{t\\neq i, t=c_i} \\mid \\phi) \\ p(\\phi)}{q(\\phi \\mid y_{t\\neq i, t=c_i})}.\n",
    "$\n",
    "The poposal distribution is modeled as `phi_proposal` below.\n",
    "Finally we approximate the marginal likelihood as\n",
    "\n",
    "$$\\tag{$\\ast\\ast\\ast$}\n",
    "    \\color{blue}{\\int F( y_t ; \\phi_{c_t}) \\ p(\\phi_{c_t} | y_{-t},c ) \\ d\\phi_{c_t}}\n",
    "        \\approx \n",
    "            \\sum_m F(y_i ; \\phi_m) \\cdot w_m.\n",
    "$$\n",
    "\n",
    "\n",
    "<!-- which are then weighted by by normalizing $\\tilde w_m=\\tfrac{p(y_{t\\neq i, t=c_i} \\mid \\phi) \\ p(\\phi)}{q(\\phi \\mid y_{t\\neq i, t=c_i})}$.\n",
    "\n",
    "compute weighted samples $\\{ (\\phi_m, w_m)\\}$ with $\\phi_m \\sim q(\\phi \\mid y_{t\\neq i, t=c_i})$ and weights $w_m$ given by normalizing $\\tilde w_m=\\tfrac{p(y_{t\\neq i, t=c_i} \\mid \\phi) \\ p(\\phi)}{q(\\phi \\mid y_{t\\neq i, t=c_i})}$.\n",
    " -->\n",
    "\n",
    "Might be impractical...nevertheless no assumptions etc..."
   ]
  },
  {
   "cell_type": "code",
   "execution_count": 3,
   "metadata": {},
   "outputs": [],
   "source": [
    "\"\"\"\n",
    "    (phi, x) = data_model_with_prior(n::Int, F, G0)\n",
    "\n",
    "Data model described in (∗∗) without the normalizing integral.\n",
    "\"\"\"\n",
    "@gen function data_model_with_prior(n::Int, F, G0)\n",
    "    phi = @trace(G0(), :phi)\n",
    "    \n",
    "    x = []\n",
    "    for s=1:n\n",
    "        x_s = @trace(F(phi), :x => (:x, s))\n",
    "        push!(x, x_s)\n",
    "    end\n",
    "    \n",
    "    return phi, x\n",
    "end;"
   ]
  },
  {
   "cell_type": "code",
   "execution_count": 4,
   "metadata": {},
   "outputs": [],
   "source": [
    "\"\"\"\n",
    "    phi_proposal(x, G0)\n",
    "\n",
    "Poposal for the cluster parameters in `data_model_with_prior` \n",
    "given the datapoints generated from the cluster. This function should\n",
    "be defined with respect to `G0` and `F`.\n",
    "\"\"\"\n",
    "@gen function phi_proposal(x, G0)\n",
    "    if length(x) > 0\n",
    "        @trace(normal(mean(x), .2), :phi => :mean)\n",
    "        \n",
    "        # Computing the variance needs a \n",
    "        # few entries to work well\n",
    "        if length(x) < 5 \n",
    "            @trace(inv_gamma(5., 4.),  :phi => :std)\n",
    "        else\n",
    "            a = 20.\n",
    "            b = std(x)*(a-1)\n",
    "            @trace(inv_gamma(a, b),  :phi => :std)\n",
    "        end\n",
    "    else\n",
    "        @trace(G0(), :phi)\n",
    "    end\n",
    "end;"
   ]
  },
  {
   "cell_type": "code",
   "execution_count": 5,
   "metadata": {},
   "outputs": [],
   "source": [
    "argmax(a; dims=1) = findmax(a; dims=dims)[2][1];\n",
    "\n",
    "\"\"\"\n",
    "    phi_map_estimate(x, F, G0; num_samples=5)\n",
    "\n",
    "Maximum a poseriori estimate of the cluster parameters.\n",
    "\"\"\"\n",
    "function phi_map_estimate(x, F, G0; num_samples=20)\n",
    "    obs = get_obs(x)\n",
    "    trs, ws, = importance_sampling(data_model_with_prior, (length(x), F, G0), obs, \n",
    "                                              phi_proposal,          (x, G0), num_samples)\n",
    "    tr = trs[argmax(ws)]\n",
    "    return tr[:phi]\n",
    "end;"
   ]
  },
  {
   "cell_type": "code",
   "execution_count": 6,
   "metadata": {},
   "outputs": [],
   "source": [
    "\"\"\"\n",
    "    marginal_lh(t, j, y, c, F, G0; num_samples)\n",
    "\n",
    "Marginal likelihood estimate in Equation (∗∗∗).\n",
    "\n",
    "Note, I assume that you defined the function `set_obs`, \n",
    "which sets the data choices in a `data_model_with_prior` trace.\n",
    "\"\"\"\n",
    "function marginal_lh(t, j, y, c, F, G0; num_samples)\n",
    "    \n",
    "    if j == nothing\n",
    "        cond = falses(length(y)) \n",
    "    else\n",
    "        cond = c .== j\n",
    "        cond[t] = false\n",
    "    end \n",
    "    \n",
    "    y_tj = y[cond]\n",
    "    \n",
    "    obs = get_obs(y_tj)\n",
    "    \n",
    "    trs, ws, = importance_sampling(data_model_with_prior, (length(y_tj), F, G0), obs, \n",
    "                                              phi_proposal,          (y_tj, G0), num_samples)\n",
    "    phi = [tr[:phi] for tr in trs]\n",
    "    fs  = [Gen.assess(F, (phi[m],), choicemap(:x => y[t]))[1]  for m=1:num_samples]\n",
    "    \n",
    "    return sum(exp.(fs .+ ws))\n",
    "end;"
   ]
  },
  {
   "cell_type": "code",
   "execution_count": 7,
   "metadata": {},
   "outputs": [],
   "source": [
    "\"\"\"\n",
    "    table_counts(c)\n",
    "\n",
    "Counts the number of assigments to the maximum \n",
    "possible number of tables (length(c))\n",
    "\"\"\"\n",
    "function table_counts(c)\n",
    "    n = zeros(length(c))\n",
    "    for i in c\n",
    "        n[i] += 1\n",
    "    end\n",
    "    return n\n",
    "end;\n",
    "\n",
    "\n",
    "raw\"\"\"\n",
    "    set_c!(upd, t, j) \n",
    "\n",
    "Sets an assignment constraint in the choicemap to \n",
    "$c_t = j$. \n",
    "\"\"\"\n",
    "function set_c!(upd, t, j) \n",
    "    upd[:c => (:c,t)] = j\n",
    "end\n",
    "\n",
    "\n",
    "\"\"\"\n",
    "    set_phi!(upd, i, phi)\n",
    "\n",
    "Sets the i'th cluster paramete in the choicemap to phi. \n",
    "\"\"\"\n",
    "function set_phi!(upd, i, phi)\n",
    "    upd[:phi => (:phi, i) => :mean] = phi[1]\n",
    "    upd[:phi => (:phi, i) => :std]  = phi[2]\n",
    "end;"
   ]
  },
  {
   "cell_type": "code",
   "execution_count": 8,
   "metadata": {},
   "outputs": [],
   "source": [
    "\"\"\"\n",
    "    naive_gibbs_kernel(tr, α, F, G0, mlh_samples)    \n",
    "\n",
    "Resamples each table assignment once according to the probability\n",
    "given in (∗).\n",
    "\n",
    "Note, I assume that you defined the functions `set_c!` `set_phi!` to update\n",
    "a choicemap of updates for a `crp_mixture_model` trace.\n",
    "\n",
    "\"\"\"\n",
    "function naive_gibbs_kernel(tr, α, F, G0, mlh_samples)    \n",
    "    \n",
    "    c, phi, x = get_retval(tr)\n",
    "    # Rem: Holy shit that took a while, c is a reference\n",
    "    # i.e. changing c changes the return value of the trace!\n",
    "    c   = copy(c) \n",
    "    phi = copy(phi)\n",
    "    \n",
    "    k   = length(phi)\n",
    "    T   = length(c)\n",
    "    n   = table_counts(c)\n",
    "    upd = choicemap()\n",
    "    \n",
    "    for t=1:T\n",
    "        #\n",
    "        # Pretend cust t hasn't arrived yet and\n",
    "        # adjust counts and cluster number\n",
    "        #\n",
    "        n[c[t]] -= 1    \n",
    "        if n[c[t]] == 0\n",
    "            k -= 1\n",
    "            delete!(phi, c[t])\n",
    "        end\n",
    "    \n",
    "        #\n",
    "        # Sample from p(c_t | c_not_t, y)\n",
    "        #\n",
    "        mlh = j -> marginal_lh(t, j, x, c, F, G0; num_samples=mlh_samples)\n",
    "        \n",
    "        zero_mlh = α/(T-k) * mlh(nothing)\n",
    "        pr = [ n[j] != 0 ? n[j] * mlh(j) : zero_mlh  for j=1:T ]\n",
    "        pr = pr./sum(pr)\n",
    "        c[t] = categorical(pr)\n",
    "\n",
    "        #\n",
    "        # Assign customer to newly sampled table and\n",
    "        # adjust counts and cluster number\n",
    "        #\n",
    "        n[c[t]] += 1  \n",
    "        if n[c[t]] == 1\n",
    "            k += 1\n",
    "            phi[c[t]] = G0()\n",
    "        end\n",
    "        \n",
    "        #\n",
    "        # Record the changes for the trace update\n",
    "        #\n",
    "        set_c!(upd, t, c[t])\n",
    "\n",
    "    end\n",
    "    \n",
    "    for i in Set(c)\n",
    "        # This should be done with the samples in the mlh to save time...but y[t] is not part of it?!\n",
    "        phi[i] = phi_map_estimate(x[c.==i], F, G0; num_samples=mlh_samples) \n",
    "        set_phi!(upd, i, phi[i])\n",
    "    end\n",
    "    \n",
    "    new_tr, w,  = update(tr, upd)\n",
    "    relabled_tr = relabel_tables(new_tr)\n",
    "    \n",
    "    return relabled_tr\n",
    "end;"
   ]
  },
  {
   "cell_type": "markdown",
   "metadata": {},
   "source": [
    "**Runtime** `naive_gibbs_kernel`\n",
    "\n",
    "For each customer $t=1,\\ldots,T$ and potential table $j=1,...,k_{t-1} + 1$ we compute $p(c_t = j \\mid c_{-t}, y)$ as described in $(\\ast)$. The number of tables $k_{t-1}$ varies and theoretically can go up $T$ &mdash; in fact the way I implement it assumes that there are T (potentially empty) tables. We approximate the marginal in $(\\ast)$ using importance sampling, which scales with the number of samples, $s$ say. Thus the runtime is\n",
    "\n",
    "$$\n",
    "    f(\\text{t}) = O(s \\cdot T^2).\n",
    "$$"
   ]
  },
  {
   "cell_type": "code",
   "execution_count": 9,
   "metadata": {},
   "outputs": [],
   "source": [
    "\"\"\"\n",
    "    naive_gibbs_inference(args, obs; steps=1, mlh_samples=1)\n",
    "\n",
    "Runs a number of Gibbs steps and returns the corresponding traces and\n",
    "scores.\n",
    "\"\"\"\n",
    "function naive_gibbs_inference(args, obs; steps=1, mlh_samples=1)\n",
    "    \n",
    "    (T, α, F, G0) = args\n",
    "    tr, = Gen.generate(crp_mixture_model, args, obs) \n",
    "    c, phi, x = get_retval(tr)\n",
    "    k  = length(phi)\n",
    "    w  = get_score(tr)\n",
    "    ws = [w]\n",
    "    trs = [tr]\n",
    "    \n",
    "    println(\"Naive Gibbs inference:\")\n",
    "    println(\"...0\\t k = $(k), \\tw=$(get_score(tr))\") \n",
    "    for g=1:steps\n",
    "        \n",
    "        tr = naive_gibbs_kernel(tr, α, F, G0, mlh_samples) \n",
    "        w  = get_score(tr)\n",
    "        c, phi, x = get_retval(tr)\n",
    "        push!(trs, tr)\n",
    "        push!(ws, w)\n",
    "        if g%5 == 0 || g==steps\n",
    "            println(\"...$(g)\\t k = $(length(phi)), \\tw=$(w)\") \n",
    "        end\n",
    "        \n",
    "    end\n",
    "    \n",
    "    return trs, ws\n",
    "end;"
   ]
  },
  {
   "cell_type": "markdown",
   "metadata": {},
   "source": [
    "# Example"
   ]
  },
  {
   "cell_type": "code",
   "execution_count": 10,
   "metadata": {},
   "outputs": [],
   "source": [
    "function render_mixture(x,c)\n",
    "    fig, axs = plt.subplots(1,2, figsize=(8,1), gridspec_kw=Dict(\"width_ratios\" => [8, 1]));\n",
    "    for i in Set(c)\n",
    "        axs[1].hist(x[c.==i], bins=-10:0.25:10, alpha=0.8, label=\"$(i)\"); \n",
    "    end\n",
    "    axs[2].hist(c, bins=1:length(Set(c))+1, width=0.8);\n",
    "    axs[1].legend()\n",
    "end;"
   ]
  },
  {
   "cell_type": "code",
   "execution_count": 12,
   "metadata": {},
   "outputs": [
    {
     "name": "stderr",
     "output_type": "stream",
     "text": [
      "┌ Warning: JLD incorrectly extends FileIO functions (see FileIO documentation)\n",
      "└ @ FileIO /Users/mirko/.julia/packages/FileIO/ajK7j/src/loadsave.jl:210\n"
     ]
    },
    {
     "data": {
      "image/png": "[encoded data removed]",
      "text/plain": [
       "PyPlot.Figure(PyObject <Figure size 800x100 with 2 Axes>)"
      ]
     },
     "metadata": {},
     "output_type": "display_data"
    },
    {
     "name": "stdout",
     "output_type": "stream",
     "text": [
      "T = 200\n"
     ]
    }
   ],
   "source": [
    "data = load(\"example_data.jld\")\n",
    "x = data[\"x\"]\n",
    "c = data[\"c\"]\n",
    "obs = get_obs(x);\n",
    "T = length(x)\n",
    "println(\"T = $(T)\")\n",
    "\n",
    "render_mixture(x,c);"
   ]
  },
  {
   "cell_type": "code",
   "execution_count": 15,
   "metadata": {
    "scrolled": false
   },
   "outputs": [
    {
     "name": "stdout",
     "output_type": "stream",
     "text": [
      "Naive Gibbs inference:\n",
      "...0\t k = 5, \tw=-2134.3713897184225\n",
      "...5\t k = 4, \tw=-548.0448891336385\n",
      "...10\t k = 4, \tw=-454.2785865597777\n",
      "...15\t k = 4, \tw=-480.119857572856\n",
      "...20\t k = 5, \tw=-519.459241835415\n",
      "...25\t k = 8, \tw=-584.9787076070559\n",
      "...30\t k = 6, \tw=-615.6554855670704\n",
      "...35\t k = 4, \tw=-448.56160263407656\n",
      "...40\t k = 6, \tw=-698.6566025888641\n",
      "...45\t k = 4, \tw=-448.0260059706952\n"
     ]
    },
    {
     "data": {
      "image/png": "[encoded data removed]",
      "text/plain": [
       "PyPlot.Figure(PyObject <Figure size 800x100 with 2 Axes>)"
      ]
     },
     "metadata": {},
     "output_type": "display_data"
    },
    {
     "name": "stdout",
     "output_type": "stream",
     "text": [
      "...50\t k = 3, \tw=-428.5191615501566\n"
     ]
    }
   ],
   "source": [
    "trs, ws = naive_gibbs_inference((T, .5, F, G0), obs; steps=50, mlh_samples=5);\n",
    "\n",
    "tr = trs[end]\n",
    "c, phi, x = get_retval(tr)\n",
    "render_mixture(x,c);"
   ]
  },
  {
   "cell_type": "code",
   "execution_count": 16,
   "metadata": {},
   "outputs": [],
   "source": [
    "using Interact\n",
    "plt.ion()"
   ]
  },
  {
   "cell_type": "code",
   "execution_count": 17,
   "metadata": {
    "scrolled": false
   },
   "outputs": [
    {
     "data": {
      "application/vnd.webio.node+json": {
       "children": [
        {
         "children": [
          {
           "children": [
            {
             "children": [
              {
               "children": [
                {
                 "children": [
                  "t"
                 ],
                 "instanceArgs": {
                  "namespace": "html",
                  "tag": "label"
                 },
                 "nodeType": "DOM",
                 "props": {
                  "className": "interact ",
                  "style": {
                   "padding": "5px 10px 0px 10px"
                  }
                 },
                 "type": "node"
                }
               ],
               "instanceArgs": {
                "namespace": "html",
                "tag": "div"
               },
               "nodeType": "DOM",
               "props": {
                "className": "interact-flex-row-left"
               },
               "type": "node"
              },
              {
               "children": [
                {
                 "children": [],
                 "instanceArgs": {
                  "namespace": "html",
                  "tag": "input"
                 },
                 "nodeType": "DOM",
                 "props": {
                  "attributes": {
                   "data-bind": "numericValue: index, valueUpdate: 'input', event: {change: function (){this.changes(this.changes()+1)}}",
                   "orient": "horizontal",
                   "type": "range"
                  },
                  "className": "slider slider is-fullwidth",
                  "max": 51,
                  "min": 1,
                  "step": 1,
                  "style": {}
                 },
                 "type": "node"
                }
               ],
               "instanceArgs": {
                "namespace": "html",
                "tag": "div"
               },
               "nodeType": "DOM",
               "props": {
                "className": "interact-flex-row-center"
               },
               "type": "node"
              },
              {
               "children": [
                {
                 "children": [],
                 "instanceArgs": {
                  "namespace": "html",
                  "tag": "p"
                 },
                 "nodeType": "DOM",
                 "props": {
                  "attributes": {
                   "data-bind": "text: formatted_val"
                  }
                 },
                 "type": "node"
                }
               ],
               "instanceArgs": {
                "namespace": "html",
                "tag": "div"
               },
               "nodeType": "DOM",
               "props": {
                "className": "interact-flex-row-right"
               },
               "type": "node"
              }
             ],
             "instanceArgs": {
              "namespace": "html",
              "tag": "div"
             },
             "nodeType": "DOM",
             "props": {
              "className": "interact-flex-row interact-widget"
             },
             "type": "node"
            }
           ],
           "instanceArgs": {
            "handlers": {
             "changes": [
              "(function (val){return (val!=this.model[\"changes\"]()) ? (this.valueFromJulia[\"changes\"]=true, this.model[\"changes\"](val)) : undefined})"
             ],
             "index": [
              "(function (val){return (val!=this.model[\"index\"]()) ? (this.valueFromJulia[\"index\"]=true, this.model[\"index\"](val)) : undefined})"
             ]
            },
            "id": "5814481697696664992",
            "imports": {
             "data": [
              {
               "name": "knockout",
               "type": "js",
               "url": "/assetserver/e4da70377fbc064c4a8fca817fa1eed48c5bb0e4-knockout.js"
              },
              {
               "name": "knockout_punches",
               "type": "js",
               "url": "/assetserver/1cf304b141511f8b566995b6fce2270efb57e386-knockout_punches.js"
              },
              {
               "name": null,
               "type": "js",
               "url": "/assetserver/cc939c96408da74ee5ee10982d55645488492d16-all.js"
              },
              {
               "name": null,
               "type": "css",
               "url": "/assetserver/5810539dd0d8c6c20ba00f914b7de5104031073c-style.css"
              },
              {
               "name": null,
               "type": "css",
               "url": "/assetserver/2bee72890d17cb1e529cf36d09296aeaf1d88452-bulma_confined.min.css"
              }
             ],
             "type": "async_block"
            },
            "mount_callbacks": [
             "function () {\n    var handler = (function (ko, koPunches) {\n    ko.punches.enableAll();\n    ko.bindingHandlers.numericValue = {\n        init: function(element, valueAccessor, allBindings, data, context) {\n            var stringified = ko.observable(ko.unwrap(valueAccessor()));\n            stringified.subscribe(function(value) {\n                var val = parseFloat(value);\n                if (!isNaN(val)) {\n                    valueAccessor()(val);\n                }\n            });\n            valueAccessor().subscribe(function(value) {\n                var str = JSON.stringify(value);\n                if ((str == \"0\") && ([\"-0\", \"-0.\"].indexOf(stringified()) >= 0))\n                     return;\n                 if ([\"null\", \"\"].indexOf(str) >= 0)\n                     return;\n                stringified(str);\n            });\n            ko.applyBindingsToNode(\n                element,\n                {\n                    value: stringified,\n                    valueUpdate: allBindings.get('valueUpdate'),\n                },\n                context,\n            );\n        }\n    };\n    var json_data = {\"formatted_vals\":[\"1\",\"2\",\"3\",\"4\",\"5\",\"6\",\"7\",\"8\",\"9\",\"10\",\"11\",\"12\",\"13\",\"14\",\"15\",\"16\",\"17\",\"18\",\"19\",\"20\",\"21\",\"22\",\"23\",\"24\",\"25\",\"26\",\"27\",\"28\",\"29\",\"30\",\"31\",\"32\",\"33\",\"34\",\"35\",\"36\",\"37\",\"38\",\"39\",\"40\",\"41\",\"42\",\"43\",\"44\",\"45\",\"46\",\"47\",\"48\",\"49\",\"50\",\"51\"],\"changes\":WebIO.getval({\"name\":\"changes\",\"scope\":\"5814481697696664992\",\"id\":\"17995678705355596792\",\"type\":\"observable\"}),\"index\":WebIO.getval({\"name\":\"index\",\"scope\":\"5814481697696664992\",\"id\":\"15921431507281230568\",\"type\":\"observable\"})};\n    var self = this;\n    function AppViewModel() {\n        for (var key in json_data) {\n            var el = json_data[key];\n            this[key] = Array.isArray(el) ? ko.observableArray(el) : ko.observable(el);\n        }\n        \n        [this[\"formatted_val\"]=ko.computed(    function(){\n        return this.formatted_vals()[parseInt(this.index())-(1)];\n    }\n,this)]\n        [this[\"changes\"].subscribe((function (val){!(this.valueFromJulia[\"changes\"]) ? (WebIO.setval({\"name\":\"changes\",\"scope\":\"5814481697696664992\",\"id\":\"17995678705355596792\",\"type\":\"observable\"},val)) : undefined; return this.valueFromJulia[\"changes\"]=false}),self),this[\"index\"].subscribe((function (val){!(this.valueFromJulia[\"index\"]) ? (WebIO.setval({\"name\":\"index\",\"scope\":\"5814481697696664992\",\"id\":\"15921431507281230568\",\"type\":\"observable\"},val)) : undefined; return this.valueFromJulia[\"index\"]=false}),self)]\n        \n    }\n    self.model = new AppViewModel();\n    self.valueFromJulia = {};\n    for (var key in json_data) {\n        self.valueFromJulia[key] = false;\n    }\n    ko.applyBindings(self.model, self.dom);\n}\n);\n    (WebIO.importBlock({\"data\":[{\"name\":\"knockout\",\"type\":\"js\",\"url\":\"/assetserver/e4da70377fbc064c4a8fca817fa1eed48c5bb0e4-knockout.js\"},{\"name\":\"knockout_punches\",\"type\":\"js\",\"url\":\"/assetserver/1cf304b141511f8b566995b6fce2270efb57e386-knockout_punches.js\"}],\"type\":\"async_block\"})).then((imports) => handler.apply(this, imports));\n}\n"
            ],
            "observables": {
             "changes": {
              "id": "17995678705355596792",
              "sync": false,
              "value": 0
             },
             "index": {
              "id": "15921431507281230568",
              "sync": true,
              "value": 26
             }
            },
            "systemjs_options": null
           },
           "nodeType": "Scope",
           "props": {},
           "type": "node"
          }
         ],
         "instanceArgs": {
          "namespace": "html",
          "tag": "div"
         },
         "nodeType": "DOM",
         "props": {
          "className": "field interact-widget"
         },
         "type": "node"
        },
        {
         "children": [
          {
           "children": [],
           "instanceArgs": {
            "id": "6733456857934650375",
            "name": "obs-node"
           },
           "nodeType": "ObservableNode",
           "props": {},
           "type": "node"
          }
         ],
         "instanceArgs": {
          "handlers": {},
          "id": "2208574527524795494",
          "imports": {
           "data": [],
           "type": "async_block"
          },
          "mount_callbacks": [],
          "observables": {
           "obs-node": {
            "id": "6733456857934650375",
            "sync": false,
            "value": {
             "children": [
              {
               "children": [],
               "instanceArgs": {
                "namespace": "html",
                "tag": "div"
               },
               "nodeType": "DOM",
               "props": {
                "setInnerHtml": "<img src='data:image/png;base64,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'></img>"
               },
               "type": "node"
              }
             ],
             "instanceArgs": {
              "namespace": "html",
              "tag": "div"
             },
             "nodeType": "DOM",
             "props": {
              "className": "interact-flex-row interact-widget"
             },
             "type": "node"
            }
           }
          },
          "systemjs_options": null
         },
         "nodeType": "Scope",
         "props": {},
         "type": "node"
        }
       ],
       "instanceArgs": {
        "namespace": "html",
        "tag": "div"
       },
       "nodeType": "DOM",
       "props": {},
       "type": "node"
      },
      "text/html": [
       "<div\n",
       "    class=\"webio-mountpoint\"\n",
       "    data-webio-mountpoint=\"15379303575723357452\"\n",
       ">\n",
       "    <script>\n",
       "    if (window.require && require.defined && require.defined(\"nbextensions/webio-jupyter-notebook\")) {\n",
       "        console.log(\"Jupyter WebIO extension detected, not mounting.\");\n",
       "    } else if (window.WebIO) {\n",
       "        WebIO.mount(\n",
       "            document.querySelector('[data-webio-mountpoint=\"15379303575723357452\"]'),\n",
       "            {\"props\":{},\"nodeType\":\"DOM\",\"type\":\"node\",\"instanceArgs\":{\"namespace\":\"html\",\"tag\":\"div\"},\"children\":[{\"props\":{\"className\":\"field interact-widget\"},\"nodeType\":\"DOM\",\"type\":\"node\",\"instanceArgs\":{\"namespace\":\"html\",\"tag\":\"div\"},\"children\":[{\"props\":{},\"nodeType\":\"Scope\",\"type\":\"node\",\"instanceArgs\":{\"imports\":{\"data\":[{\"name\":\"knockout\",\"type\":\"js\",\"url\":\"\\/assetserver\\/e4da70377fbc064c4a8fca817fa1eed48c5bb0e4-knockout.js\"},{\"name\":\"knockout_punches\",\"type\":\"js\",\"url\":\"\\/assetserver\\/1cf304b141511f8b566995b6fce2270efb57e386-knockout_punches.js\"},{\"name\":null,\"type\":\"js\",\"url\":\"\\/assetserver\\/cc939c96408da74ee5ee10982d55645488492d16-all.js\"},{\"name\":null,\"type\":\"css\",\"url\":\"\\/assetserver\\/5810539dd0d8c6c20ba00f914b7de5104031073c-style.css\"},{\"name\":null,\"type\":\"css\",\"url\":\"\\/assetserver\\/2bee72890d17cb1e529cf36d09296aeaf1d88452-bulma_confined.min.css\"}],\"type\":\"async_block\"},\"id\":\"5814481697696664992\",\"handlers\":{\"changes\":[\"(function (val){return (val!=this.model[\\\"changes\\\"]()) ? (this.valueFromJulia[\\\"changes\\\"]=true, this.model[\\\"changes\\\"](val)) : undefined})\"],\"index\":[\"(function (val){return (val!=this.model[\\\"index\\\"]()) ? (this.valueFromJulia[\\\"index\\\"]=true, this.model[\\\"index\\\"](val)) : undefined})\"]},\"systemjs_options\":null,\"mount_callbacks\":[\"function () {\\n    var handler = (function (ko, koPunches) {\\n    ko.punches.enableAll();\\n    ko.bindingHandlers.numericValue = {\\n        init: function(element, valueAccessor, allBindings, data, context) {\\n            var stringified = ko.observable(ko.unwrap(valueAccessor()));\\n            stringified.subscribe(function(value) {\\n                var val = parseFloat(value);\\n                if (!isNaN(val)) {\\n                    valueAccessor()(val);\\n                }\\n            });\\n            valueAccessor().subscribe(function(value) {\\n                var str = JSON.stringify(value);\\n                if ((str == \\\"0\\\") && ([\\\"-0\\\", \\\"-0.\\\"].indexOf(stringified()) >= 0))\\n                     return;\\n                 if ([\\\"null\\\", \\\"\\\"].indexOf(str) >= 0)\\n                     return;\\n                stringified(str);\\n            });\\n            ko.applyBindingsToNode(\\n                element,\\n                {\\n                    value: stringified,\\n                    valueUpdate: allBindings.get('valueUpdate'),\\n                },\\n                context,\\n            );\\n        }\\n    };\\n    var json_data = {\\\"formatted_vals\\\":[\\\"1\\\",\\\"2\\\",\\\"3\\\",\\\"4\\\",\\\"5\\\",\\\"6\\\",\\\"7\\\",\\\"8\\\",\\\"9\\\",\\\"10\\\",\\\"11\\\",\\\"12\\\",\\\"13\\\",\\\"14\\\",\\\"15\\\",\\\"16\\\",\\\"17\\\",\\\"18\\\",\\\"19\\\",\\\"20\\\",\\\"21\\\",\\\"22\\\",\\\"23\\\",\\\"24\\\",\\\"25\\\",\\\"26\\\",\\\"27\\\",\\\"28\\\",\\\"29\\\",\\\"30\\\",\\\"31\\\",\\\"32\\\",\\\"33\\\",\\\"34\\\",\\\"35\\\",\\\"36\\\",\\\"37\\\",\\\"38\\\",\\\"39\\\",\\\"40\\\",\\\"41\\\",\\\"42\\\",\\\"43\\\",\\\"44\\\",\\\"45\\\",\\\"46\\\",\\\"47\\\",\\\"48\\\",\\\"49\\\",\\\"50\\\",\\\"51\\\"],\\\"changes\\\":WebIO.getval({\\\"name\\\":\\\"changes\\\",\\\"scope\\\":\\\"5814481697696664992\\\",\\\"id\\\":\\\"17995678705355596792\\\",\\\"type\\\":\\\"observable\\\"}),\\\"index\\\":WebIO.getval({\\\"name\\\":\\\"index\\\",\\\"scope\\\":\\\"5814481697696664992\\\",\\\"id\\\":\\\"15921431507281230568\\\",\\\"type\\\":\\\"observable\\\"})};\\n    var self = this;\\n    function AppViewModel() {\\n        for (var key in json_data) {\\n            var el = json_data[key];\\n            this[key] = Array.isArray(el) ? ko.observableArray(el) : ko.observable(el);\\n        }\\n        \\n        [this[\\\"formatted_val\\\"]=ko.computed(    function(){\\n        return this.formatted_vals()[parseInt(this.index())-(1)];\\n    }\\n,this)]\\n        [this[\\\"changes\\\"].subscribe((function (val){!(this.valueFromJulia[\\\"changes\\\"]) ? (WebIO.setval({\\\"name\\\":\\\"changes\\\",\\\"scope\\\":\\\"5814481697696664992\\\",\\\"id\\\":\\\"17995678705355596792\\\",\\\"type\\\":\\\"observable\\\"},val)) : undefined; return this.valueFromJulia[\\\"changes\\\"]=false}),self),this[\\\"index\\\"].subscribe((function (val){!(this.valueFromJulia[\\\"index\\\"]) ? (WebIO.setval({\\\"name\\\":\\\"index\\\",\\\"scope\\\":\\\"5814481697696664992\\\",\\\"id\\\":\\\"15921431507281230568\\\",\\\"type\\\":\\\"observable\\\"},val)) : undefined; return this.valueFromJulia[\\\"index\\\"]=false}),self)]\\n        \\n    }\\n    self.model = new AppViewModel();\\n    self.valueFromJulia = {};\\n    for (var key in json_data) {\\n        self.valueFromJulia[key] = false;\\n    }\\n    ko.applyBindings(self.model, self.dom);\\n}\\n);\\n    (WebIO.importBlock({\\\"data\\\":[{\\\"name\\\":\\\"knockout\\\",\\\"type\\\":\\\"js\\\",\\\"url\\\":\\\"\\/assetserver\\/e4da70377fbc064c4a8fca817fa1eed48c5bb0e4-knockout.js\\\"},{\\\"name\\\":\\\"knockout_punches\\\",\\\"type\\\":\\\"js\\\",\\\"url\\\":\\\"\\/assetserver\\/1cf304b141511f8b566995b6fce2270efb57e386-knockout_punches.js\\\"}],\\\"type\\\":\\\"async_block\\\"})).then((imports) => handler.apply(this, imports));\\n}\\n\"],\"observables\":{\"changes\":{\"sync\":false,\"id\":\"17995678705355596792\",\"value\":0},\"index\":{\"sync\":true,\"id\":\"15921431507281230568\",\"value\":26}}},\"children\":[{\"props\":{\"className\":\"interact-flex-row interact-widget\"},\"nodeType\":\"DOM\",\"type\":\"node\",\"instanceArgs\":{\"namespace\":\"html\",\"tag\":\"div\"},\"children\":[{\"props\":{\"className\":\"interact-flex-row-left\"},\"nodeType\":\"DOM\",\"type\":\"node\",\"instanceArgs\":{\"namespace\":\"html\",\"tag\":\"div\"},\"children\":[{\"props\":{\"className\":\"interact \",\"style\":{\"padding\":\"5px 10px 0px 10px\"}},\"nodeType\":\"DOM\",\"type\":\"node\",\"instanceArgs\":{\"namespace\":\"html\",\"tag\":\"label\"},\"children\":[\"t\"]}]},{\"props\":{\"className\":\"interact-flex-row-center\"},\"nodeType\":\"DOM\",\"type\":\"node\",\"instanceArgs\":{\"namespace\":\"html\",\"tag\":\"div\"},\"children\":[{\"props\":{\"max\":51,\"min\":1,\"attributes\":{\"type\":\"range\",\"data-bind\":\"numericValue: index, valueUpdate: 'input', event: {change: function (){this.changes(this.changes()+1)}}\",\"orient\":\"horizontal\"},\"step\":1,\"className\":\"slider slider is-fullwidth\",\"style\":{}},\"nodeType\":\"DOM\",\"type\":\"node\",\"instanceArgs\":{\"namespace\":\"html\",\"tag\":\"input\"},\"children\":[]}]},{\"props\":{\"className\":\"interact-flex-row-right\"},\"nodeType\":\"DOM\",\"type\":\"node\",\"instanceArgs\":{\"namespace\":\"html\",\"tag\":\"div\"},\"children\":[{\"props\":{\"attributes\":{\"data-bind\":\"text: formatted_val\"}},\"nodeType\":\"DOM\",\"type\":\"node\",\"instanceArgs\":{\"namespace\":\"html\",\"tag\":\"p\"},\"children\":[]}]}]}]}]},{\"props\":{},\"nodeType\":\"Scope\",\"type\":\"node\",\"instanceArgs\":{\"imports\":{\"data\":[],\"type\":\"async_block\"},\"id\":\"16073152889739092843\",\"handlers\":{},\"systemjs_options\":null,\"mount_callbacks\":[],\"observables\":{\"obs-node\":{\"sync\":false,\"id\":\"13899613080337161961\",\"value\":{\"props\":{\"className\":\"interact-flex-row interact-widget\"},\"nodeType\":\"DOM\",\"type\":\"node\",\"instanceArgs\":{\"namespace\":\"html\",\"tag\":\"div\"},\"children\":[{\"props\":{\"setInnerHtml\":\"<img src='data:image\\/png;base64,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'><\\/img>\"},\"nodeType\":\"DOM\",\"type\":\"node\",\"instanceArgs\":{\"namespace\":\"html\",\"tag\":\"div\"},\"children\":[]}]}}}},\"children\":[{\"props\":{},\"nodeType\":\"ObservableNode\",\"type\":\"node\",\"instanceArgs\":{\"id\":\"13899613080337161961\",\"name\":\"obs-node\"},\"children\":[]}]}]},\n",
       "            window,\n",
       "        );\n",
       "    } else {\n",
       "        document\n",
       "            .querySelector('[data-webio-mountpoint=\"15379303575723357452\"]')\n",
       "            .innerHTML = (\n",
       "                '<div style=\"padding: 1em; background-color: #f8d6da; border: 1px solid #f5c6cb\">' +\n",
       "                '<p><strong>WebIO not detected.</strong></p>' +\n",
       "                '<p>Please read ' +\n",
       "                '<a href=\"https://juliagizmos.github.io/WebIO.jl/latest/troubleshooting/not-detected/\" target=\"_blank\">the troubleshooting guide</a> ' +\n",
       "                'for more information on how to resolve this issue.</p>' +\n",
       "                '<p><a href=\"https://juliagizmos.github.io/WebIO.jl/latest/troubleshooting/not-detected/\" target=\"_blank\">https://juliagizmos.github.io/WebIO.jl/latest/troubleshooting/not-detected/</a></p>' +\n",
       "                '</div>'\n",
       "            );\n",
       "    }\n",
       "    </script>\n",
       "</div>\n"
      ],
      "text/plain": [
       "Node{WebIO.DOM}(WebIO.DOM(:html, :div), Any[Node{WebIO.DOM}(WebIO.DOM(:html, :div), Any[Scope(Node{WebIO.DOM}(WebIO.DOM(:html, :div), Any[Node{WebIO.DOM}(WebIO.DOM(:html, :div), Any[Node{WebIO.DOM}(WebIO.DOM(:html, :label), Any[\"t\"], Dict{Symbol,Any}(:className => \"interact \",:style => Dict{Any,Any}(:padding => \"5px 10px 0px 10px\")))], Dict{Symbol,Any}(:className => \"interact-flex-row-left\")), Node{WebIO.DOM}(WebIO.DOM(:html, :div), Any[Node{WebIO.DOM}(WebIO.DOM(:html, :input), Any[], Dict{Symbol,Any}(:max => 51,:min => 1,:attributes => Dict{Any,Any}(:type => \"range\",Symbol(\"data-bind\") => \"numericValue: index, valueUpdate: 'input', event: {change: function (){this.changes(this.changes()+1)}}\",\"orient\" => \"horizontal\"),:step => 1,:className => \"slider slider is-fullwidth\",:style => Dict{Any,Any}()))], Dict{Symbol,Any}(:className => \"interact-flex-row-center\")), Node{WebIO.DOM}(WebIO.DOM(:html, :div), Any[Node{WebIO.DOM}(WebIO.DOM(:html, :p), Any[], Dict{Symbol,Any}(:attributes => Dict(\"data-bind\" => \"text: formatted_val\")))], Dict{Symbol,Any}(:className => \"interact-flex-row-right\"))], Dict{Symbol,Any}(:className => \"interact-flex-row interact-widget\")), Dict{String,Tuple{Observables.AbstractObservable,Union{Nothing, Bool}}}(\"changes\" => (Observable{Int64} with 1 listeners. Value:\n",
       "0, nothing),\"index\" => (Observable{Int64} with 2 listeners. Value:\n",
       "26, nothing)), Set(String[]), nothing, Asset[Asset(\"js\", \"knockout\", \"/Users/mirko/.julia/packages/Knockout/IP1uR/src/../assets/knockout.js\"), Asset(\"js\", \"knockout_punches\", \"/Users/mirko/.julia/packages/Knockout/IP1uR/src/../assets/knockout_punches.js\"), Asset(\"js\", nothing, \"/Users/mirko/.julia/packages/InteractBase/Zfu5P/src/../assets/all.js\"), Asset(\"css\", nothing, \"/Users/mirko/.julia/packages/InteractBase/Zfu5P/src/../assets/style.css\"), Asset(\"css\", nothing, \"/Users/mirko/.julia/packages/Interact/SbgIk/src/../assets/bulma_confined.min.css\")], Dict{Any,Any}(\"changes\" => Any[WebIO.JSString(\"(function (val){return (val!=this.model[\\\"changes\\\"]()) ? (this.valueFromJulia[\\\"changes\\\"]=true, this.model[\\\"changes\\\"](val)) : undefined})\")],\"index\" => Any[WebIO.JSString(\"(function (val){return (val!=this.model[\\\"index\\\"]()) ? (this.valueFromJulia[\\\"index\\\"]=true, this.model[\\\"index\\\"](val)) : undefined})\")]), WebIO.ConnectionPool(Channel{Any}(sz_max:32,sz_curr:0), Set(AbstractConnection[]), Base.GenericCondition{Base.AlwaysLockedST}(Base.InvasiveLinkedList{Task}(Task (runnable) @0x000000013188e410, Task (runnable) @0x000000013188e410), Base.AlwaysLockedST(1))), WebIO.JSString[WebIO.JSString(\"function () {\\n    var handler = (function (ko, koPunches) {\\n    ko.punches.enableAll();\\n    ko.bindingHandlers.numericValue = {\\n        init: function(element, valueAccessor, allBindings, data, context) {\\n            var stringified = ko.observable(ko.unwrap(valueAccessor()));\\n            stringified.subscribe(function(value) {\\n                var val = parseFloat(value);\\n                if (!isNaN(val)) {\\n                    valueAccessor()(val);\\n                }\\n            });\\n            valueAccessor().subscribe(function(value) {\\n                var str = JSON.stringify(value);\\n                if ((str == \\\"0\\\") && ([\\\"-0\\\", \\\"-0.\\\"].indexOf(stringified()) >= 0))\\n                     return;\\n                 if ([\\\"null\\\", \\\"\\\"].indexOf(str) >= 0)\\n                     return;\\n                stringified(str);\\n            });\\n            ko.applyBindingsToNode(\\n                element,\\n                {\\n                    value: stringified,\\n                    valueUpdate: allBindings.get('valueUpdate'),\\n                },\\n                context,\\n            );\\n        }\\n    };\\n    var json_data = {\\\"formatted_vals\\\":[\\\"1\\\",\\\"2\\\",\\\"3\\\",\\\"4\\\",\\\"5\\\",\\\"6\\\",\\\"7\\\",\\\"8\\\",\\\"9\\\",\\\"10\\\",\\\"11\\\",\\\"12\\\",\\\"13\\\",\\\"14\\\",\\\"15\\\",\\\"16\\\",\\\"17\\\",\\\"18\\\",\\\"19\\\",\\\"20\\\",\\\"21\\\",\\\"22\\\",\\\"23\\\",\\\"24\\\",\\\"25\\\",\\\"26\\\",\\\"27\\\",\\\"28\\\",\\\"29\\\",\\\"30\\\",\\\"31\\\",\\\"32\\\",\\\"33\\\",\\\"34\\\",\\\"35\\\",\\\"36\\\",\\\"37\\\",\\\"38\\\",\\\"39\\\",\\\"40\\\",\\\"41\\\",\\\"42\\\",\\\"43\\\",\\\"44\\\",\\\"45\\\",\\\"46\\\",\\\"47\\\",\\\"48\\\",\\\"49\\\",\\\"50\\\",\\\"51\\\"],\\\"changes\\\":WebIO.getval({\\\"name\\\":\\\"changes\\\",\\\"scope\\\":\\\"5814481697696664992\\\",\\\"id\\\":\\\"17995678705355596792\\\",\\\"type\\\":\\\"observable\\\"}),\\\"index\\\":WebIO.getval({\\\"name\\\":\\\"index\\\",\\\"scope\\\":\\\"5814481697696664992\\\",\\\"id\\\":\\\"15921431507281230568\\\",\\\"type\\\":\\\"observable\\\"})};\\n    var self = this;\\n    function AppViewModel() {\\n        for (var key in json_data) {\\n            var el = json_data[key];\\n            this[key] = Array.isArray(el) ? ko.observableArray(el) : ko.observable(el);\\n        }\\n        \\n        [this[\\\"formatted_val\\\"]=ko.computed(    function(){\\n        return this.formatted_vals()[parseInt(this.index())-(1)];\\n    }\\n,this)]\\n        [this[\\\"changes\\\"].subscribe((function (val){!(this.valueFromJulia[\\\"changes\\\"]) ? (WebIO.setval({\\\"name\\\":\\\"changes\\\",\\\"scope\\\":\\\"5814481697696664992\\\",\\\"id\\\":\\\"17995678705355596792\\\",\\\"type\\\":\\\"observable\\\"},val)) : undefined; return this.valueFromJulia[\\\"changes\\\"]=false}),self),this[\\\"index\\\"].subscribe((function (val){!(this.valueFromJulia[\\\"index\\\"]) ? (WebIO.setval({\\\"name\\\":\\\"index\\\",\\\"scope\\\":\\\"5814481697696664992\\\",\\\"id\\\":\\\"15921431507281230568\\\",\\\"type\\\":\\\"observable\\\"},val)) : undefined; return this.valueFromJulia[\\\"index\\\"]=false}),self)]\\n        \\n    }\\n    self.model = new AppViewModel();\\n    self.valueFromJulia = {};\\n    for (var key in json_data) {\\n        self.valueFromJulia[key] = false;\\n    }\\n    ko.applyBindings(self.model, self.dom);\\n}\\n);\\n    (WebIO.importBlock({\\\"data\\\":[{\\\"name\\\":\\\"knockout\\\",\\\"type\\\":\\\"js\\\",\\\"url\\\":\\\"/assetserver/e4da70377fbc064c4a8fca817fa1eed48c5bb0e4-knockout.js\\\"},{\\\"name\\\":\\\"knockout_punches\\\",\\\"type\\\":\\\"js\\\",\\\"url\\\":\\\"/assetserver/1cf304b141511f8b566995b6fce2270efb57e386-knockout_punches.js\\\"}],\\\"type\\\":\\\"async_block\\\"})).then((imports) => handler.apply(this, imports));\\n}\\n\")])], Dict{Symbol,Any}(:className => \"field interact-widget\")), Observable{Any} with 0 listeners. Value:\n",
       "Node{WebIO.DOM}(WebIO.DOM(:html, :div), Any[PyPlot.Figure(PyObject <Figure size 800x200 with 3 Axes>)], Dict{Symbol,Any}(:className => \"interact-flex-row interact-widget\"))], Dict{Symbol,Any}())"
      ]
     },
     "execution_count": 17,
     "metadata": {
      "application/vnd.webio.node+json": {
       "kernelId": "c4960758-80e1-4cb9-978c-c8bf73107dcb"
      }
     },
     "output_type": "execute_result"
    }
   ],
   "source": [
    "# Rem: For whatever julia reason \n",
    "#      you might have to reload the page\n",
    "#      for the widget to work\n",
    "\n",
    "fig = plt.figure(figsize=(8,2));\n",
    "@manipulate for t in 1:length(trs); \n",
    "PyPlot.withfig(fig) do\n",
    "        \n",
    "    tr = trs[t]\n",
    "    c, phi, x = get_retval(tr)\n",
    "            \n",
    "    plt.subplot(131)\n",
    "    for i in Set(c)\n",
    "        mu, std = phi[i]\n",
    "            \n",
    "        plt.hist(x[c.==i], bins=-8:0.5:8, alpha=0.5, label=\"$(i)\",  color=\"C$(i)\"); \n",
    "        plt.scatter(mu, -1, c=\"C$(i)\", alpha=0.5)\n",
    "        plt.plot([mu - std, mu + std], [-1, -1],  c=\"C$(i)\", marker=\".\", alpha=0.5)\n",
    "    end\n",
    "        \n",
    "    plt.subplot(132)\n",
    "    plt.hist(c, bins=1:length(Set(c))+1, width=0.8);\n",
    "    plt.xticks(1.5:1:length(Set(c))+0.5 ,1:length(Set(c)))\n",
    "        \n",
    "    plt.subplot(133)\n",
    "    plt.plot(1:length(ws), ws);\n",
    "    plt.scatter(t,ws[t], clip_on=true);\n",
    "    plt.tight_layout()\n",
    "        \n",
    "end end"
   ]
  },
  {
   "cell_type": "markdown",
   "metadata": {},
   "source": [
    "<hr style=\"border:10px solid black\"> </hr>"
   ]
  }
 ],
 "metadata": {
  "@webio": {
   "lastCommId": "d35bdf3766a94a1d973c75b4c971250d",
   "lastKernelId": "c4960758-80e1-4cb9-978c-c8bf73107dcb"
  },
  "kernelspec": {
   "display_name": "Julia 1.3.1",
   "language": "julia",
   "name": "julia-1.3"
  },
  "language_info": {
   "file_extension": ".jl",
   "mimetype": "application/julia",
   "name": "julia",
   "version": "1.3.1"
  },
  "toc": {
   "base_numbering": "0",
   "nav_menu": {
    "height": "374.986px",
    "width": "772.997px"
   },
   "number_sections": true,
   "sideBar": true,
   "skip_h1_title": false,
   "title_cell": "Table of Contents",
   "title_sidebar": "Contents",
   "toc_cell": false,
   "toc_position": {
    "height": "calc(100% - 180px)",
    "left": "10px",
    "top": "150px",
    "width": "346.875px"
   },
   "toc_section_display": true,
   "toc_window_display": false
  }
 },
 "nbformat": 4,
 "nbformat_minor": 4
}
