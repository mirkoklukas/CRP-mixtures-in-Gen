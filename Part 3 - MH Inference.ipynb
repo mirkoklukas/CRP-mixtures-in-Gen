{
 "cells": [
  {
   "cell_type": "markdown",
   "metadata": {},
   "source": [
    "# Part III: ...Something less naive\n",
    "\n",
    "## Metropolis-Hastings updates\n",
    "\n",
    "The Metropolis-Hastings algorithm creates a Markov chain that (approximately ?!) satisfies the detailed balance condition with $f=p(x)$, i.e. denoting the transition kernel of the chain by $K$ we have, for every $x,y$,\n",
    "\n",
    "$$\n",
    "    f(x) \\ K(x,y) = f(y) \\ K(y,x).\n",
    "$$\n",
    "\n",
    "(This is slightly \"weaker\" than reversibility.) If $f$ is a density as it will be in the MH case below, it implies that the chain is reversible and $f$ is a stationary distribution of the chain.\n",
    "\n",
    "Metropolis-Hstings transition kernel: (cf. Robert-Casella)\n",
    "\n",
    "Given a proposal $q(y \\mid x)$ one defines the acceptance probability (of the proposed state transition $x \\to y$ ) as\n",
    "\n",
    "$$\n",
    "a(x, y) := \\min \\Big\\{ 1,  \\frac{p(y)}{p(x)} \\frac{q(x \\mid y)}{q(y \\mid x)} \\Big\\}.\n",
    "$$\n",
    "\n",
    "Pick an initial state $x_0$ and create a Markov chain $x_1, x_2, x_3, \\ldots$ by iterating the following process for $t \\geq 1$:\n",
    "\n",
    "$$ \n",
    "\\left.\\begin{aligned}\n",
    "    y_t \\ & \\sim \\ q(y \\mid x_{t-1}) \\\\\n",
    "    a_t \\ & \\sim \\ \\text{Bernoulli}\\big(a({x_t, x}) \\big)\n",
    "\\end{aligned}\\right. \\ \\ \\ \\ \\longrightarrow \\ \\ \\ \\ \\ \n",
    "    x_t :=\n",
    "    \\begin{cases} \n",
    "        y_t   & \\text{if $a_t$ is true,}  \\\\\n",
    "        x_{t-1} & \\text{else.}\n",
    "    \\end{cases}\n",
    "$$\n",
    "\n",
    "This defines a Markov chain satisfying the detailed balance condition. The target density $p(x)$ is a stationary distribution of the chain.\n",
    "\n",
    "**Intuition:** (am I correct here?)\n",
    "\n",
    "Note that we consider the probability ratio of the transitions of the reversed transition $y \\to x$ over the proposed transition $x \\to y$ and we distinguish two cases:\n",
    "\n",
    "$$\n",
    "     \\text{(i)} \\ \\ \\frac{p(y \\to x)}{p(x \\to y)} \\geq 1 \\ \\ \\ \\ \\text{and} \\ \\ \\ \\ \\text{(ii)} \\ \\ \\frac{p(y \\to x)}{p(x \\to y)} \\leq 1. \n",
    "$$\n",
    "\n",
    "Consider the first case $p(y \\to x) \\geq p(x \\to y)$. In order to reestablish balance we have to increase the denominator $p(x \\to y)$, which means we want to accept the proposed transition. Conversely, in the second case $p(y \\to x) \\leq p(x \\to y)$, we want to reject the proposed transition (proportionally to how bad we are out of balance) to avoid amplifying the imbalance.\n",
    "\n",
    "MH Inference for CRP mixture\n",
    "$$\n",
    "a(c, c^\\ast) = \\min \\Big\\{ 1, \\frac{ F(y_t ; \\phi_{c^\\ast}) }{ F(y_t ; \\phi_{c}) } \\Big\\}\n",
    "$$"
   ]
  },
  {
   "cell_type": "code",
   "execution_count": null,
   "metadata": {},
   "outputs": [],
   "source": []
  }
 ],
 "metadata": {
  "kernelspec": {
   "display_name": "Julia 1.3.1",
   "language": "julia",
   "name": "julia-1.3"
  },
  "language_info": {
   "file_extension": ".jl",
   "mimetype": "application/julia",
   "name": "julia",
   "version": "1.3.1"
  },
  "toc": {
   "base_numbering": 1,
   "nav_menu": {},
   "number_sections": true,
   "sideBar": true,
   "skip_h1_title": false,
   "title_cell": "Table of Contents",
   "title_sidebar": "Contents",
   "toc_cell": false,
   "toc_position": {},
   "toc_section_display": true,
   "toc_window_display": false
  }
 },
 "nbformat": 4,
 "nbformat_minor": 4
}
